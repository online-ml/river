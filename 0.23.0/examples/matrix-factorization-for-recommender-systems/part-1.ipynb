{
 "cells": [
  {
   "cell_type": "markdown",
   "metadata": {},
   "source": [
    "# Part 1"
   ]
  },
  {
   "cell_type": "markdown",
   "metadata": {},
   "source": [
    "**Table of contents of this tutorial series on matrix factorization for recommender systems:**\n",
    "\n",
    "- [Part 1 - Traditional Matrix Factorization methods for Recommender Systems](/examples/matrix-factorization-for-recommender-systems-part-1)\n",
    "- [Part 2 - Factorization Machines and Field-aware Factorization Machines](/examples/matrix-factorization-for-recommender-systems-part-2)\n",
    "- [Part 3 - Large scale learning and better predictive power with multiple pass learning](/examples/matrix-factorization-for-recommender-systems-part-3)"
   ]
  },
  {
   "cell_type": "markdown",
   "metadata": {},
   "source": [
    "## Introduction"
   ]
  },
  {
   "cell_type": "markdown",
   "metadata": {},
   "source": [
    "A [recommender system](https://en.wikipedia.org/wiki/Recommender_system) is a software tool designed to generate and suggest items or entities to the users. Popular large scale examples include:\n",
    "\n",
    "- Amazon (suggesting products)\n",
    "- Facebook (suggesting posts in users' news feeds)\n",
    "- Spotify (suggesting music)\n",
    "\n",
    "Social recommendation from graph (mostly used by social networks) are not covered in River. We focus on the general case, item recommendation. This problem can be represented with the user-item matrix:\n",
    "\n",
    "$$\n",
    "\\normalsize\n",
    "\\begin{matrix}\n",
    "    & \\begin{matrix} _1 & _\\cdots & _\\cdots & _\\cdots & _I \\end{matrix} \\\\\n",
    "    \\begin{matrix} _1 \\\\ _\\vdots \\\\ _\\vdots \\\\ _\\vdots \\\\ _U \\end{matrix} & \n",
    "        \\begin{bmatrix}\n",
    "            {\\color{Red} ?} & 2 & \\cdots & {\\color{Red} ?} & {\\color{Red} ?} \\\\\n",
    "            {\\color{Red} ?} & {\\color{Red} ?} & \\cdots & {\\color{Red} ?} & 4.5 \\\\\n",
    "            \\vdots & \\ddots & \\ddots & \\ddots & \\vdots \\\\\n",
    "            3 & {\\color{Red} ?} & \\cdots & {\\color{Red} ?} & {\\color{Red} ?} \\\\\n",
    "            {\\color{Red} ?} & {\\color{Red} ?} & \\cdots & 5 & {\\color{Red} ?}\n",
    "        \\end{bmatrix}\n",
    "\\end{matrix}\n",
    "$$\n",
    "\n",
    "Where $U$ and $I$ are the number of user and item of the system, respectively. A matrix entry represents a user's preference for an item, it can be a rating, a like or dislike, etc. Because of the huge number of users and items compared to the number of observed entries, those matrices are very sparsed (usually less than 1% filled).\n",
    "\n",
    "[Matrix Factorization (MF)](https://en.wikipedia.org/wiki/Matrix_factorization_(recommender_systems)) is a class of [collaborative filtering](https://en.wikipedia.org/wiki/Collaborative_filtering) algorithms derived from [Singular Value Decomposition (SVD)](https://en.wikipedia.org/wiki/Singular_value_decomposition). MF strength lies in its capacity to able to model high cardinality categorical variables interactions. This subfield boomed during the famous [Netflix Prize](https://en.wikipedia.org/wiki/Netflix_Prize) contest in 2006, when numerous novel variants has been invented and became popular thanks to their attractive accuracy and scalability.\n",
    "\n",
    "MF approach seeks to fill the user-item matrix considering the problem as a [matrix completion](https://en.wikipedia.org/wiki/Matrix_completion) one. MF core idea assume a latent model learning its own representation of the users and the items in a lower latent dimensional space by factorizing the observed parts of the matrix.\n",
    "\n",
    "A factorized user or item is represented as a vector $\\mathbf{v}_u$ or $\\mathbf{v}_i$ composed of $k$ latent factors, with $k << U, I$. Those learnt latent variables represent, for an item the various aspects describing it, and for a user its interests in terms of those aspects. The model then assume a user's choice or fondness is composed of a sum of preferences about the various aspects of the concerned item. This sum being the dot product between the latent vectors of a given user-item pair:\n",
    "\n",
    "$$\n",
    "\\normalsize\n",
    "\\langle \\mathbf{v}_u, \\mathbf{v}_i \\rangle = \\sum_{f=1}^{k} \\mathbf{v}_{u, f} \\cdot \\mathbf{v}_{i, f}\n",
    "$$\n",
    "\n",
    "MF models weights are learnt in an online fashion, often with stochastic gradient descent as it provides relatively fast running time and good accuracy. There is a great and widely popular library named [surprise](http://surpriselib.com/) that implements MF models (and others) but in contrast with River doesn't follow a pure online philosophy (all the data have to be loaded in memory and the API doesn't allow you to update your model with new data).\n",
    "\n",
    "**Notes:**\n",
    "\n",
    "- In recent years, proposed deep learning techniques for recommendation tasks claim state of the art results. However, [recent work](https://arxiv.org/abs/1907.06902) (August 2019) showed that those promises can't be taken for granted and traditional MF methods are still relevant today.\n",
    "- For more information about how the business value of recommender systems is measured and why they are one of the main success stories of machine learning, see the following [literature survey](https://arxiv.org/abs/1908.08328) (December 2019)."
   ]
  },
  {
   "cell_type": "markdown",
   "metadata": {},
   "source": [
    "## Let's start"
   ]
  },
  {
   "cell_type": "markdown",
   "metadata": {},
   "source": [
    "In this tutorial, we are going to explore MF algorithms available in River and test them on a movie recommendation problem with the MovieLens 100K dataset. This latter is a collection of movie ratings (from 1 to 5) that includes various information about both the items and the users. We can access it from the [river.datasets](/api/overview/#datasets) module:"
   ]
  },
  {
   "cell_type": "code",
   "execution_count": 1,
   "metadata": {
    "execution": {
     "iopub.execute_input": "2025-09-07T19:12:55.481419Z",
     "iopub.status.busy": "2025-09-07T19:12:55.481236Z",
     "iopub.status.idle": "2025-09-07T19:12:56.574803Z",
     "shell.execute_reply": "2025-09-07T19:12:56.574165Z"
    }
   },
   "outputs": [
    {
     "name": "stdout",
     "output_type": "stream",
     "text": [
      "Downloading https://maxhalford.github.io/files/datasets/ml_100k.zip (1.83 MiB)\n",
      "Uncompressing into /home/runner/river_data/MovieLens100K\n",
      "x = {\n",
      "    \"user\": \"259\",\n",
      "    \"item\": \"255\",\n",
      "    \"timestamp\": 874731910000000000,\n",
      "    \"title\": \"My Best Friend's Wedding (1997)\",\n",
      "    \"release_date\": 866764800000000000,\n",
      "    \"genres\": \"comedy, romance\",\n",
      "    \"age\": 21.0,\n",
      "    \"gender\": \"M\",\n",
      "    \"occupation\": \"student\",\n",
      "    \"zip_code\": \"48823\"\n",
      "}\n",
      "y = 4.0\n"
     ]
    }
   ],
   "source": [
    "import json\n",
    "\n",
    "from river import datasets\n",
    "\n",
    "for x, y in datasets.MovieLens100K():\n",
    "    print(f'x = {json.dumps(x, indent=4)}')\n",
    "    print(f'y = {y}')\n",
    "    break"
   ]
  },
  {
   "cell_type": "markdown",
   "metadata": {},
   "source": [
    "Let's define a routine to evaluate our different models on MovieLens 100K. Mean Absolute Error and Root Mean Squared Error will be our metrics printed alongside model's computation time and memory usage:"
   ]
  },
  {
   "cell_type": "code",
   "execution_count": 2,
   "metadata": {
    "execution": {
     "iopub.execute_input": "2025-09-07T19:12:56.610787Z",
     "iopub.status.busy": "2025-09-07T19:12:56.610520Z",
     "iopub.status.idle": "2025-09-07T19:12:56.631727Z",
     "shell.execute_reply": "2025-09-07T19:12:56.631115Z"
    }
   },
   "outputs": [],
   "source": [
    "from river import metrics\n",
    "from river.evaluate import progressive_val_score\n",
    "\n",
    "def evaluate(model, unpack_user_and_item=True):\n",
    "    X_y = datasets.MovieLens100K(unpack_user_and_item)\n",
    "    metric = metrics.MAE() + metrics.RMSE()\n",
    "    _ = progressive_val_score(X_y, model, metric, print_every=25_000, show_time=True, show_memory=True)"
   ]
  },
  {
   "cell_type": "markdown",
   "metadata": {},
   "source": [
    "## Naive prediction"
   ]
  },
  {
   "cell_type": "markdown",
   "metadata": {},
   "source": [
    "It's good practice in machine learning to start with a naive baseline and then iterate from simple things to complex ones observing progress incrementally. Let's start by predicting the target running mean as a first shot:"
   ]
  },
  {
   "cell_type": "code",
   "execution_count": 3,
   "metadata": {
    "execution": {
     "iopub.execute_input": "2025-09-07T19:12:56.633718Z",
     "iopub.status.busy": "2025-09-07T19:12:56.633534Z",
     "iopub.status.idle": "2025-09-07T19:12:58.789859Z",
     "shell.execute_reply": "2025-09-07T19:12:58.789351Z"
    }
   },
   "outputs": [
    {
     "name": "stdout",
     "output_type": "stream",
     "text": [
      "[25,000] MAE: 0.934259\n",
      "RMSE: 1.124469 – 00:00:00 – 858 B"
     ]
    },
    {
     "name": "stdout",
     "output_type": "stream",
     "text": [
      "\n",
      "[50,000] MAE: 0.923893\n",
      "RMSE: 1.105 – 00:00:01 – 858 B\n"
     ]
    },
    {
     "name": "stdout",
     "output_type": "stream",
     "text": [
      "[75,000] MAE: 0.937359\n",
      "RMSE: 1.123696 – 00:00:01 – 858 B\n",
      "[100,000] MAE: 0.942162\n",
      "RMSE: 1.125783 – 00:00:02 – 858 B\n"
     ]
    }
   ],
   "source": [
    "from river import dummy\n",
    "from river import stats\n",
    "\n",
    "model = dummy.StatisticRegressor(stats.Mean())\n",
    "evaluate(model, unpack_user_and_item=False)"
   ]
  },
  {
   "cell_type": "markdown",
   "metadata": {},
   "source": [
    "## Baseline model"
   ]
  },
  {
   "cell_type": "markdown",
   "metadata": {},
   "source": [
    "Now we can do machine learning and explore available models in [river.reco](https://online-ml.github.io/api/overview/#reco) module starting with the baseline model. It extends our naive prediction by adding to the global running mean two bias terms characterizing the user and the item discrepancy from the general tendency. The model equation is defined as:\n",
    "\n",
    "$$\n",
    "\\normalsize\n",
    "\\hat{y}(x) = \\bar{y} + bu_{u} + bi_{i}\n",
    "$$\n",
    "\n",
    "This baseline model can be viewed as a linear regression where the intercept is replaced by the target running mean with the users and the items one hot encoded.\n",
    "\n",
    "All machine learning models in River expect dicts as input with feature names as keys and feature values as values. Specifically, models from `river.reco` expect a `'user'` and an `'item'` entries without any type constraint on their values (i.e. can be strings or numbers), e.g.:\n",
    "\n",
    "```python\n",
    "x = {\n",
    "    'user': 'Guido',\n",
    "    'item': \"Monty Python's Flying Circus\"\n",
    "}\n",
    "```\n",
    "\n",
    "Other entries, if exist, are simply ignored. This is quite useful as we don't need to spend time and storage doing one hot encoding."
   ]
  },
  {
   "cell_type": "code",
   "execution_count": 4,
   "metadata": {
    "execution": {
     "iopub.execute_input": "2025-09-07T19:12:58.791703Z",
     "iopub.status.busy": "2025-09-07T19:12:58.791511Z",
     "iopub.status.idle": "2025-09-07T19:13:01.817035Z",
     "shell.execute_reply": "2025-09-07T19:13:01.816493Z"
    }
   },
   "outputs": [
    {
     "name": "stdout",
     "output_type": "stream",
     "text": [
      "[25,000] MAE: 0.761844\n",
      "RMSE: 0.960972 – 00:00:00 – 147.99 KiB"
     ]
    },
    {
     "name": "stdout",
     "output_type": "stream",
     "text": [
      "\n",
      "[50,000] MAE: 0.753292\n",
      "RMSE: 0.951223 – 00:00:01 – 200.82 KiB\n"
     ]
    },
    {
     "name": "stdout",
     "output_type": "stream",
     "text": [
      "[75,000] MAE: 0.754177\n",
      "RMSE: 0.953376 – 00:00:02 – 236.58 KiB\n",
      "[100,000] MAE: 0.754651\n",
      "RMSE: 0.954148 – 00:00:03 – 257.71 KiB\n"
     ]
    }
   ],
   "source": [
    "from river import preprocessing\n",
    "from river import optim\n",
    "from river import reco\n",
    "\n",
    "baseline_params = {\n",
    "    'optimizer': optim.SGD(0.025),\n",
    "    'l2': 0.,\n",
    "    'initializer': optim.initializers.Zeros()\n",
    "}\n",
    "\n",
    "model = preprocessing.PredClipper(\n",
    "    regressor=reco.Baseline(**baseline_params),\n",
    "    y_min=1,\n",
    "    y_max=5\n",
    ")\n",
    "\n",
    "evaluate(model)"
   ]
  },
  {
   "cell_type": "markdown",
   "metadata": {},
   "source": [
    "We won two tenth of MAE compared to our naive prediction (0.7546 vs 0.9421) meaning that significant information has been learnt by the model."
   ]
  },
  {
   "cell_type": "markdown",
   "metadata": {},
   "source": [
    "## Funk Matrix Factorization (FunkMF)"
   ]
  },
  {
   "cell_type": "markdown",
   "metadata": {},
   "source": [
    "It's the pure form of matrix factorization consisting of only learning the users and items latent representations as discussed in introduction. Simon Funk popularized its [stochastic gradient descent optimization](https://sifter.org/simon/journal/20061211.html) in 2006 during the Netflix Prize. The model equation is defined as:\n",
    "\n",
    "$$\n",
    "\\normalsize\n",
    "\\hat{y}(x) = \\langle \\mathbf{v}_u, \\mathbf{v}_i \\rangle\n",
    "$$\n",
    "\n",
    "**Note:** FunkMF is sometimes referred as [Probabilistic Matrix Factorization](https://papers.nips.cc/paper/3208-probabilistic-matrix-factorization.pdf) which is an extended probabilistic version."
   ]
  },
  {
   "cell_type": "code",
   "execution_count": 5,
   "metadata": {
    "execution": {
     "iopub.execute_input": "2025-09-07T19:13:01.818948Z",
     "iopub.status.busy": "2025-09-07T19:13:01.818760Z",
     "iopub.status.idle": "2025-09-07T19:13:07.225951Z",
     "shell.execute_reply": "2025-09-07T19:13:07.225346Z"
    }
   },
   "outputs": [
    {
     "name": "stdout",
     "output_type": "stream",
     "text": [
      "[25,000] MAE: 1.070136\n",
      "RMSE: 1.397014 – 00:00:01 – 544.96 KiB\n"
     ]
    },
    {
     "name": "stdout",
     "output_type": "stream",
     "text": [
      "[50,000] MAE: 0.99174\n",
      "RMSE: 1.290666 – 00:00:02 – 674.8 KiB\n"
     ]
    },
    {
     "name": "stdout",
     "output_type": "stream",
     "text": [
      "[75,000] MAE: 0.961072\n",
      "RMSE: 1.250842 – 00:00:04 – 794.85 KiB\n"
     ]
    },
    {
     "name": "stdout",
     "output_type": "stream",
     "text": [
      "[100,000] MAE: 0.944883\n",
      "RMSE: 1.227688 – 00:00:05 – 893.48 KiB\n"
     ]
    }
   ],
   "source": [
    "funk_mf_params = {\n",
    "    'n_factors': 10,\n",
    "    'optimizer': optim.SGD(0.05),\n",
    "    'l2': 0.1,\n",
    "    'initializer': optim.initializers.Normal(mu=0., sigma=0.1, seed=73)\n",
    "}\n",
    "\n",
    "model = preprocessing.PredClipper(\n",
    "    regressor=reco.FunkMF(**funk_mf_params),\n",
    "    y_min=1,\n",
    "    y_max=5\n",
    ")\n",
    "\n",
    "evaluate(model)"
   ]
  },
  {
   "cell_type": "markdown",
   "metadata": {},
   "source": [
    "Results are equivalent to our naive prediction (0.9448 vs 0.9421). By only focusing on the users preferences and the items characteristics, the model is limited in his ability to capture different views of the problem. Despite its poor performance alone, this algorithm is quite useful combined in other models or when we need to build dense representations for other tasks."
   ]
  },
  {
   "cell_type": "markdown",
   "metadata": {},
   "source": [
    "## Biased Matrix Factorization (BiasedMF)"
   ]
  },
  {
   "cell_type": "markdown",
   "metadata": {},
   "source": [
    "It's the combination of the Baseline model and FunkMF. The model equation is defined as:\n",
    "\n",
    "$$\n",
    "\\normalsize\n",
    "\\hat{y}(x) = \\bar{y} + bu_{u} + bi_{i} + \\langle \\mathbf{v}_u, \\mathbf{v}_i \\rangle\n",
    "$$\n",
    "\n",
    "**Note:** *Biased Matrix Factorization* name is used by some people but some others refer to it by *SVD* or *Funk SVD*. It's the case of Yehuda Koren and Robert Bell in [Recommender Systems Handbook](https://www.cse.iitk.ac.in/users/nsrivast/HCC/Recommender_systems_handbook.pdf) (Chapter 5 *Advances in Collaborative Filtering*) and of `surprise` library. Nevertheless, *SVD* could be confused with the original *Singular Value Decomposition* from which it's derived from, and *Funk SVD* could also be misleading because of the biased part of the model equation which doesn't come from Simon Funk's work. For those reasons, we chose to side with *Biased Matrix Factorization* which fits more naturally to it."
   ]
  },
  {
   "cell_type": "code",
   "execution_count": 6,
   "metadata": {
    "execution": {
     "iopub.execute_input": "2025-09-07T19:13:07.228217Z",
     "iopub.status.busy": "2025-09-07T19:13:07.227720Z",
     "iopub.status.idle": "2025-09-07T19:13:12.931750Z",
     "shell.execute_reply": "2025-09-07T19:13:12.931195Z"
    }
   },
   "outputs": [
    {
     "name": "stdout",
     "output_type": "stream",
     "text": [
      "[25,000] MAE: 0.761818\n",
      "RMSE: 0.961057 – 00:00:01 – 617.83 KiB\n"
     ]
    },
    {
     "name": "stdout",
     "output_type": "stream",
     "text": [
      "[50,000] MAE: 0.751667\n",
      "RMSE: 0.949443 – 00:00:02 – 786.77 KiB\n"
     ]
    },
    {
     "name": "stdout",
     "output_type": "stream",
     "text": [
      "[75,000] MAE: 0.749653\n",
      "RMSE: 0.948723 – 00:00:04 – 927.65 KiB\n"
     ]
    },
    {
     "name": "stdout",
     "output_type": "stream",
     "text": [
      "[100,000] MAE: 0.748559\n",
      "RMSE: 0.947854 – 00:00:05 – 1.01 MiB\n"
     ]
    }
   ],
   "source": [
    "biased_mf_params = {\n",
    "    'n_factors': 10,\n",
    "    'bias_optimizer': optim.SGD(0.025),\n",
    "    'latent_optimizer': optim.SGD(0.05),\n",
    "    'weight_initializer': optim.initializers.Zeros(),\n",
    "    'latent_initializer': optim.initializers.Normal(mu=0., sigma=0.1, seed=73),\n",
    "    'l2_bias': 0.,\n",
    "    'l2_latent': 0.\n",
    "}\n",
    "\n",
    "model = preprocessing.PredClipper(\n",
    "    regressor=reco.BiasedMF(**biased_mf_params),\n",
    "    y_min=1,\n",
    "    y_max=5\n",
    ")\n",
    "\n",
    "evaluate(model)"
   ]
  },
  {
   "cell_type": "markdown",
   "metadata": {},
   "source": [
    "Results improved (0.7485 vs 0.7546) demonstrating that users and items latent representations bring additional information."
   ]
  },
  {
   "cell_type": "markdown",
   "metadata": {},
   "source": [
    "To conclude this first tutorial about factorization models, let's review the important parameters to tune when dealing with this family of methods:\n",
    "\n",
    "- `n_factors`: the number of latent factors. The more you set, the more items aspects and users preferences you are going to learn. Too many will cause overfitting, `l2` regularization could help.\n",
    "- `*_optimizer`: the optimizers. Classic stochastic gradient descent performs well, finding the good learning rate will make the difference.\n",
    "- `initializer`: the latent weights initialization. Latent vectors have to be initialized with non-constant values. We generally sample them from a zero-mean normal distribution with small standard deviation."
   ]
  }
 ],
 "metadata": {
  "kernelspec": {
   "display_name": "Python 3",
   "language": "python",
   "name": "python3"
  },
  "language_info": {
   "codemirror_mode": {
    "name": "ipython",
    "version": 3
   },
   "file_extension": ".py",
   "mimetype": "text/x-python",
   "name": "python",
   "nbconvert_exporter": "python",
   "pygments_lexer": "ipython3",
   "version": "3.12.11"
  }
 },
 "nbformat": 4,
 "nbformat_minor": 4
}
