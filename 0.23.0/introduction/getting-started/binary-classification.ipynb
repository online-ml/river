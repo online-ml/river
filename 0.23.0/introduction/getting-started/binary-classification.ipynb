{
 "cells": [
  {
   "attachments": {},
   "cell_type": "markdown",
   "metadata": {},
   "source": [
    "# Binary classification"
   ]
  },
  {
   "attachments": {},
   "cell_type": "markdown",
   "metadata": {},
   "source": [
    "Classification is about predicting an outcome from a fixed list of classes. The prediction is a probability distribution that assigns a probability to each possible outcome.\n",
    "\n",
    "A labeled classification sample is made up of a bunch of features and a class. The class is a boolean in the case of binary classification. We'll use the phishing dataset as an example."
   ]
  },
  {
   "cell_type": "code",
   "execution_count": 1,
   "metadata": {
    "execution": {
     "iopub.execute_input": "2025-09-07T18:55:35.173113Z",
     "iopub.status.busy": "2025-09-07T18:55:35.172931Z",
     "iopub.status.idle": "2025-09-07T18:55:38.821311Z",
     "shell.execute_reply": "2025-09-07T18:55:38.820693Z"
    }
   },
   "outputs": [
    {
     "data": {
      "text/html": [
       "<pre style=\"white-space:pre;overflow-x:auto;line-height:normal;font-family:Menlo,'DejaVu Sans Mono',consolas,'Courier New',monospace\"></pre>\n"
      ],
      "text/plain": []
     },
     "metadata": {},
     "output_type": "display_data"
    },
    {
     "data": {
      "text/plain": [
       "\n",
       "Phishing websites.\n",
       "\n",
       "This dataset contains features from web pages that are classified as phishing or not.\n",
       "\n",
       "    Name  Phishing                                                    \n",
       "    Task  Binary classification                                       \n",
       " Samples  \u001b[1;36m1\u001b[0m,\u001b[1;36m250\u001b[0m                                                       \n",
       "Features  \u001b[1;36m9\u001b[0m                                                           \n",
       "  Sparse  \u001b[3;91mFalse\u001b[0m                                                       \n",
       "    Path  \u001b[35m/home/runner/work/river/river/river/datasets/\u001b[0m\u001b[95mphishing.csv.gz\u001b[0m"
      ]
     },
     "execution_count": 1,
     "metadata": {},
     "output_type": "execute_result"
    }
   ],
   "source": [
    "from river import datasets\n",
    "\n",
    "dataset = datasets.Phishing()\n",
    "dataset"
   ]
  },
  {
   "attachments": {},
   "cell_type": "markdown",
   "metadata": {},
   "source": [
    "This dataset is a streaming dataset which can be looped over."
   ]
  },
  {
   "cell_type": "code",
   "execution_count": 2,
   "metadata": {
    "execution": {
     "iopub.execute_input": "2025-09-07T18:55:38.856678Z",
     "iopub.status.busy": "2025-09-07T18:55:38.856421Z",
     "iopub.status.idle": "2025-09-07T18:55:38.864867Z",
     "shell.execute_reply": "2025-09-07T18:55:38.864449Z"
    }
   },
   "outputs": [],
   "source": [
    "for x, y in dataset:\n",
    "    pass"
   ]
  },
  {
   "attachments": {},
   "cell_type": "markdown",
   "metadata": {},
   "source": [
    "Let's take a look at the first sample."
   ]
  },
  {
   "cell_type": "code",
   "execution_count": 3,
   "metadata": {
    "execution": {
     "iopub.execute_input": "2025-09-07T18:55:38.866826Z",
     "iopub.status.busy": "2025-09-07T18:55:38.866486Z",
     "iopub.status.idle": "2025-09-07T18:55:38.872473Z",
     "shell.execute_reply": "2025-09-07T18:55:38.871888Z"
    },
    "tags": []
   },
   "outputs": [
    {
     "data": {
      "text/html": [
       "<pre style=\"white-space:pre;overflow-x:auto;line-height:normal;font-family:Menlo,'DejaVu Sans Mono',consolas,'Courier New',monospace\"></pre>\n"
      ],
      "text/plain": []
     },
     "metadata": {},
     "output_type": "display_data"
    },
    {
     "data": {
      "text/plain": [
       "\n",
       "\u001b[1m{\u001b[0m\n",
       "    \u001b[32m'empty_server_form_handler'\u001b[0m: \u001b[1;36m0.0\u001b[0m,\n",
       "    \u001b[32m'popup_window'\u001b[0m: \u001b[1;36m0.0\u001b[0m,\n",
       "    \u001b[32m'https'\u001b[0m: \u001b[1;36m0.0\u001b[0m,\n",
       "    \u001b[32m'request_from_other_domain'\u001b[0m: \u001b[1;36m0.0\u001b[0m,\n",
       "    \u001b[32m'anchor_from_other_domain'\u001b[0m: \u001b[1;36m0.0\u001b[0m,\n",
       "    \u001b[32m'is_popular'\u001b[0m: \u001b[1;36m0.5\u001b[0m,\n",
       "    \u001b[32m'long_url'\u001b[0m: \u001b[1;36m1.0\u001b[0m,\n",
       "    \u001b[32m'age_of_domain'\u001b[0m: \u001b[1;36m1\u001b[0m,\n",
       "    \u001b[32m'ip_in_url'\u001b[0m: \u001b[1;36m1\u001b[0m\n",
       "\u001b[1m}\u001b[0m"
      ]
     },
     "execution_count": 3,
     "metadata": {},
     "output_type": "execute_result"
    }
   ],
   "source": [
    "x, y = next(iter(dataset))\n",
    "x"
   ]
  },
  {
   "cell_type": "code",
   "execution_count": 4,
   "metadata": {
    "execution": {
     "iopub.execute_input": "2025-09-07T18:55:38.874471Z",
     "iopub.status.busy": "2025-09-07T18:55:38.874037Z",
     "iopub.status.idle": "2025-09-07T18:55:38.878844Z",
     "shell.execute_reply": "2025-09-07T18:55:38.878384Z"
    }
   },
   "outputs": [
    {
     "data": {
      "text/html": [
       "<pre style=\"white-space:pre;overflow-x:auto;line-height:normal;font-family:Menlo,'DejaVu Sans Mono',consolas,'Courier New',monospace\"></pre>\n"
      ],
      "text/plain": []
     },
     "metadata": {},
     "output_type": "display_data"
    },
    {
     "data": {
      "text/plain": [
       "\u001b[3;92mTrue\u001b[0m"
      ]
     },
     "execution_count": 4,
     "metadata": {},
     "output_type": "execute_result"
    }
   ],
   "source": [
    "y"
   ]
  },
  {
   "attachments": {},
   "cell_type": "markdown",
   "metadata": {},
   "source": [
    "A binary classifier's goal is to learn to predict a binary target `y` from some given features `x`. We'll try to do this with a logistic regression."
   ]
  },
  {
   "cell_type": "code",
   "execution_count": 5,
   "metadata": {
    "execution": {
     "iopub.execute_input": "2025-09-07T18:55:38.880480Z",
     "iopub.status.busy": "2025-09-07T18:55:38.880299Z",
     "iopub.status.idle": "2025-09-07T18:55:38.931788Z",
     "shell.execute_reply": "2025-09-07T18:55:38.931326Z"
    }
   },
   "outputs": [
    {
     "data": {
      "text/html": [
       "<pre style=\"white-space:pre;overflow-x:auto;line-height:normal;font-family:Menlo,'DejaVu Sans Mono',consolas,'Courier New',monospace\"></pre>\n"
      ],
      "text/plain": []
     },
     "metadata": {},
     "output_type": "display_data"
    },
    {
     "data": {
      "text/plain": [
       "\u001b[1m{\u001b[0m\u001b[3;91mFalse\u001b[0m: \u001b[1;36m0.5\u001b[0m, \u001b[3;92mTrue\u001b[0m: \u001b[1;36m0.5\u001b[0m\u001b[1m}\u001b[0m"
      ]
     },
     "execution_count": 5,
     "metadata": {},
     "output_type": "execute_result"
    }
   ],
   "source": [
    "from river import linear_model\n",
    "\n",
    "model = linear_model.LogisticRegression()\n",
    "model.predict_proba_one(x)"
   ]
  },
  {
   "attachments": {},
   "cell_type": "markdown",
   "metadata": {},
   "source": [
    "The model hasn't been trained on any data, and therefore outputs a default probability of 50% for each class.\n",
    "\n",
    "The model can be trained on the sample, which will update the model's state."
   ]
  },
  {
   "cell_type": "code",
   "execution_count": 6,
   "metadata": {
    "execution": {
     "iopub.execute_input": "2025-09-07T18:55:38.933693Z",
     "iopub.status.busy": "2025-09-07T18:55:38.933366Z",
     "iopub.status.idle": "2025-09-07T18:55:38.936122Z",
     "shell.execute_reply": "2025-09-07T18:55:38.935661Z"
    }
   },
   "outputs": [],
   "source": [
    "model.learn_one(x, y)"
   ]
  },
  {
   "attachments": {},
   "cell_type": "markdown",
   "metadata": {},
   "source": [
    "If we try to make a prediction on the same sample, we can see that the probabilities are different, because the model has learned something."
   ]
  },
  {
   "cell_type": "code",
   "execution_count": 7,
   "metadata": {
    "execution": {
     "iopub.execute_input": "2025-09-07T18:55:38.937738Z",
     "iopub.status.busy": "2025-09-07T18:55:38.937575Z",
     "iopub.status.idle": "2025-09-07T18:55:38.942592Z",
     "shell.execute_reply": "2025-09-07T18:55:38.942007Z"
    }
   },
   "outputs": [
    {
     "data": {
      "text/html": [
       "<pre style=\"white-space:pre;overflow-x:auto;line-height:normal;font-family:Menlo,'DejaVu Sans Mono',consolas,'Courier New',monospace\"></pre>\n"
      ],
      "text/plain": []
     },
     "metadata": {},
     "output_type": "display_data"
    },
    {
     "data": {
      "text/plain": [
       "\u001b[1m{\u001b[0m\u001b[3;91mFalse\u001b[0m: \u001b[1;36m0.494687699901455\u001b[0m, \u001b[3;92mTrue\u001b[0m: \u001b[1;36m0.505312300098545\u001b[0m\u001b[1m}\u001b[0m"
      ]
     },
     "execution_count": 7,
     "metadata": {},
     "output_type": "execute_result"
    }
   ],
   "source": [
    "model.predict_proba_one(x)"
   ]
  },
  {
   "attachments": {},
   "cell_type": "markdown",
   "metadata": {},
   "source": [
    "Note that there is also a `predict_one` if you're only interested in the most likely class rather than the probability distribution."
   ]
  },
  {
   "cell_type": "code",
   "execution_count": 8,
   "metadata": {
    "execution": {
     "iopub.execute_input": "2025-09-07T18:55:38.944504Z",
     "iopub.status.busy": "2025-09-07T18:55:38.944151Z",
     "iopub.status.idle": "2025-09-07T18:55:38.948949Z",
     "shell.execute_reply": "2025-09-07T18:55:38.948388Z"
    }
   },
   "outputs": [
    {
     "data": {
      "text/html": [
       "<pre style=\"white-space:pre;overflow-x:auto;line-height:normal;font-family:Menlo,'DejaVu Sans Mono',consolas,'Courier New',monospace\"></pre>\n"
      ],
      "text/plain": []
     },
     "metadata": {},
     "output_type": "display_data"
    },
    {
     "data": {
      "text/plain": [
       "\u001b[3;92mTrue\u001b[0m"
      ]
     },
     "execution_count": 8,
     "metadata": {},
     "output_type": "execute_result"
    }
   ],
   "source": [
    "model.predict_one(x)"
   ]
  },
  {
   "attachments": {},
   "cell_type": "markdown",
   "metadata": {},
   "source": [
    "Typically, an online model makes a prediction, and then learns once the ground truth reveals itself. The prediction and the ground truth can be compared to measure the model's correctness. If you have a dataset available, you can loop over it, make a prediction, update the model, and compare the model's output with the ground truth. This is called progressive validation."
   ]
  },
  {
   "cell_type": "code",
   "execution_count": 9,
   "metadata": {
    "execution": {
     "iopub.execute_input": "2025-09-07T18:55:38.951021Z",
     "iopub.status.busy": "2025-09-07T18:55:38.950609Z",
     "iopub.status.idle": "2025-09-07T18:55:39.039119Z",
     "shell.execute_reply": "2025-09-07T18:55:39.038555Z"
    },
    "tags": []
   },
   "outputs": [
    {
     "data": {
      "text/html": [
       "<pre style=\"white-space:pre;overflow-x:auto;line-height:normal;font-family:Menlo,'DejaVu Sans Mono',consolas,'Courier New',monospace\"></pre>\n"
      ],
      "text/plain": []
     },
     "metadata": {},
     "output_type": "display_data"
    },
    {
     "data": {
      "text/plain": [
       "ROCAUC: \u001b[1;36m89.36\u001b[0m%"
      ]
     },
     "execution_count": 9,
     "metadata": {},
     "output_type": "execute_result"
    }
   ],
   "source": [
    "from river import metrics\n",
    "\n",
    "model = linear_model.LogisticRegression()\n",
    "\n",
    "metric = metrics.ROCAUC()\n",
    "\n",
    "for x, y in dataset:\n",
    "    y_pred = model.predict_proba_one(x)\n",
    "    model.learn_one(x, y)\n",
    "    metric.update(y, y_pred)\n",
    "    \n",
    "metric"
   ]
  },
  {
   "attachments": {},
   "cell_type": "markdown",
   "metadata": {},
   "source": [
    "This is a common way to evaluate an online model. In fact, there is a dedicated `evaluate.progressive_val_score` function that does this for you."
   ]
  },
  {
   "cell_type": "code",
   "execution_count": 10,
   "metadata": {
    "execution": {
     "iopub.execute_input": "2025-09-07T18:55:39.041087Z",
     "iopub.status.busy": "2025-09-07T18:55:39.040750Z",
     "iopub.status.idle": "2025-09-07T18:55:39.100533Z",
     "shell.execute_reply": "2025-09-07T18:55:39.099999Z"
    }
   },
   "outputs": [
    {
     "data": {
      "text/html": [
       "<pre style=\"white-space:pre;overflow-x:auto;line-height:normal;font-family:Menlo,'DejaVu Sans Mono',consolas,'Courier New',monospace\"></pre>\n"
      ],
      "text/plain": []
     },
     "metadata": {},
     "output_type": "display_data"
    },
    {
     "data": {
      "text/plain": [
       "ROCAUC: \u001b[1;36m89.36\u001b[0m%"
      ]
     },
     "execution_count": 10,
     "metadata": {},
     "output_type": "execute_result"
    }
   ],
   "source": [
    "from river import evaluate\n",
    "\n",
    "model = linear_model.LogisticRegression()\n",
    "metric = metrics.ROCAUC()\n",
    "\n",
    "evaluate.progressive_val_score(dataset, model, metric)"
   ]
  },
  {
   "attachments": {},
   "cell_type": "markdown",
   "metadata": {},
   "source": [
    "A common way to improve the performance of a logistic regression is to scale the data. This can be done by using a `preprocessing.StandardScaler`. In particular, we can define a pipeline to organise our model into a sequence of steps:"
   ]
  },
  {
   "cell_type": "code",
   "execution_count": 11,
   "metadata": {
    "execution": {
     "iopub.execute_input": "2025-09-07T18:55:39.102493Z",
     "iopub.status.busy": "2025-09-07T18:55:39.102110Z",
     "iopub.status.idle": "2025-09-07T18:55:39.132746Z",
     "shell.execute_reply": "2025-09-07T18:55:39.132202Z"
    },
    "tags": []
   },
   "outputs": [
    {
     "data": {
      "text/html": [
       "<pre style=\"white-space:pre;overflow-x:auto;line-height:normal;font-family:Menlo,'DejaVu Sans Mono',consolas,'Courier New',monospace\"></pre>\n"
      ],
      "text/plain": []
     },
     "metadata": {},
     "output_type": "display_data"
    },
    {
     "data": {
      "text/html": [
       "<div><div class=\"river-component river-pipeline\"><details class=\"river-component river-estimator\"><summary class=\"river-summary\"><pre class=\"river-estimator-name\">StandardScaler</pre></summary><code class=\"river-estimator-params\">StandardScaler (\n",
       "  with_std=True\n",
       ")\n",
       "</code></details><details class=\"river-component river-estimator\"><summary class=\"river-summary\"><pre class=\"river-estimator-name\">LogisticRegression</pre></summary><code class=\"river-estimator-params\">LogisticRegression (\n",
       "  optimizer=SGD (\n",
       "    lr=Constant (\n",
       "      learning_rate=0.01\n",
       "    )\n",
       "  )\n",
       "  loss=Log (\n",
       "    weight_pos=1.\n",
       "    weight_neg=1.\n",
       "  )\n",
       "  l2=0.\n",
       "  l1=0.\n",
       "  intercept_init=0.\n",
       "  intercept_lr=Constant (\n",
       "    learning_rate=0.01\n",
       "  )\n",
       "  clip_gradient=1e+12\n",
       "  initializer=Zeros ()\n",
       ")\n",
       "</code></details></div><style scoped>\n",
       ".river-estimator {\n",
       "    padding: 1em;\n",
       "    border-style: solid;\n",
       "    background: white;\n",
       "    max-width: max-content;\n",
       "}\n",
       "\n",
       ".river-pipeline {\n",
       "    display: flex;\n",
       "    flex-direction: column;\n",
       "    align-items: center;\n",
       "    background: linear-gradient(#000, #000) no-repeat center / 1.5px 100%;\n",
       "}\n",
       "\n",
       ".river-union {\n",
       "    display: flex;\n",
       "    flex-direction: row;\n",
       "    align-items: center;\n",
       "    justify-content: center;\n",
       "    padding: 1em;\n",
       "    border-style: solid;\n",
       "    background: white;\n",
       "}\n",
       "\n",
       ".river-wrapper {\n",
       "    display: flex;\n",
       "    flex-direction: column;\n",
       "    align-items: center;\n",
       "    justify-content: center;\n",
       "    padding: 1em;\n",
       "    border-style: solid;\n",
       "    background: white;\n",
       "}\n",
       "\n",
       ".river-wrapper > .river-estimator {\n",
       "    margin-top: 1em;\n",
       "}\n",
       "\n",
       "/* Vertical spacing between steps */\n",
       "\n",
       ".river-component + .river-component {\n",
       "    margin-top: 2em;\n",
       "}\n",
       "\n",
       ".river-union > .river-estimator {\n",
       "    margin-top: 0;\n",
       "}\n",
       "\n",
       ".river-union > .river-component {\n",
       "    margin-top: 0;\n",
       "}\n",
       "\n",
       ".river-union > .pipeline {\n",
       "    margin-top: 0;\n",
       "}\n",
       "\n",
       "/* Spacing within a union of estimators */\n",
       "\n",
       ".river-union > .river-component + .river-component {\n",
       "    margin-left: 1em;\n",
       "}\n",
       "\n",
       "/* Typography */\n",
       "\n",
       ".river-estimator-params {\n",
       "    display: block;\n",
       "    white-space: pre-wrap;\n",
       "    font-size: 110%;\n",
       "    margin-top: 1em;\n",
       "}\n",
       "\n",
       ".river-estimator > .river-estimator-params,\n",
       ".river-wrapper > .river-details > river-estimator-params {\n",
       "    background-color: white !important;\n",
       "}\n",
       "\n",
       ".river-wrapper > .river-details {\n",
       "    margin-bottom: 1em;\n",
       "}\n",
       "\n",
       ".river-estimator-name {\n",
       "    display: inline;\n",
       "    margin: 0;\n",
       "    font-size: 110%;\n",
       "}\n",
       "\n",
       "/* Toggle */\n",
       "\n",
       ".river-summary {\n",
       "    display: flex;\n",
       "    align-items:center;\n",
       "    cursor: pointer;\n",
       "}\n",
       "\n",
       ".river-summary > div {\n",
       "    width: 100%;\n",
       "}\n",
       "</style></div>"
      ],
      "text/plain": [
       "\n",
       "Pipeline \u001b[1m(\u001b[0m\n",
       "  StandardScaler \u001b[1m(\u001b[0m\n",
       "    \u001b[33mwith_std\u001b[0m=\u001b[3;92mTrue\u001b[0m\n",
       "  \u001b[1m)\u001b[0m,\n",
       "  LogisticRegression \u001b[1m(\u001b[0m\n",
       "    \u001b[33moptimizer\u001b[0m=\u001b[35mSGD\u001b[0m \u001b[1m(\u001b[0m\n",
       "      \u001b[33mlr\u001b[0m=\u001b[35mConstant\u001b[0m \u001b[1m(\u001b[0m\n",
       "        \u001b[33mlearning_rate\u001b[0m=\u001b[1;36m0\u001b[0m\u001b[1;36m.01\u001b[0m\n",
       "      \u001b[1m)\u001b[0m\n",
       "    \u001b[1m)\u001b[0m\n",
       "    \u001b[33mloss\u001b[0m=\u001b[35mLog\u001b[0m \u001b[1m(\u001b[0m\n",
       "      \u001b[33mweight_pos\u001b[0m=\u001b[1;36m1\u001b[0m.\n",
       "      \u001b[33mweight_neg\u001b[0m=\u001b[1;36m1\u001b[0m.\n",
       "    \u001b[1m)\u001b[0m\n",
       "    \u001b[33ml2\u001b[0m=\u001b[1;36m0\u001b[0m.\n",
       "    \u001b[33ml1\u001b[0m=\u001b[1;36m0\u001b[0m.\n",
       "    \u001b[33mintercept_init\u001b[0m=\u001b[1;36m0\u001b[0m.\n",
       "    \u001b[33mintercept_lr\u001b[0m=\u001b[35mConstant\u001b[0m \u001b[1m(\u001b[0m\n",
       "      \u001b[33mlearning_rate\u001b[0m=\u001b[1;36m0\u001b[0m\u001b[1;36m.01\u001b[0m\n",
       "    \u001b[1m)\u001b[0m\n",
       "    \u001b[33mclip_gradient\u001b[0m=\u001b[1;36m1e\u001b[0m\u001b[1;36m+12\u001b[0m\n",
       "    \u001b[33minitializer\u001b[0m=\u001b[35mZeros\u001b[0m \u001b[1m(\u001b[0m\u001b[1m)\u001b[0m\n",
       "  \u001b[1m)\u001b[0m\n",
       "\u001b[1m)\u001b[0m"
      ]
     },
     "execution_count": 11,
     "metadata": {},
     "output_type": "execute_result"
    }
   ],
   "source": [
    "from river import compose\n",
    "from river import preprocessing\n",
    "\n",
    "model = compose.Pipeline(\n",
    "    preprocessing.StandardScaler(),\n",
    "    linear_model.LogisticRegression()\n",
    ")\n",
    "\n",
    "model"
   ]
  },
  {
   "cell_type": "code",
   "execution_count": 12,
   "metadata": {
    "execution": {
     "iopub.execute_input": "2025-09-07T18:55:39.134512Z",
     "iopub.status.busy": "2025-09-07T18:55:39.134158Z",
     "iopub.status.idle": "2025-09-07T18:55:39.228386Z",
     "shell.execute_reply": "2025-09-07T18:55:39.227894Z"
    },
    "tags": []
   },
   "outputs": [
    {
     "data": {
      "text/html": [
       "<pre style=\"white-space:pre;overflow-x:auto;line-height:normal;font-family:Menlo,'DejaVu Sans Mono',consolas,'Courier New',monospace\"></pre>\n"
      ],
      "text/plain": []
     },
     "metadata": {},
     "output_type": "display_data"
    },
    {
     "data": {
      "text/plain": [
       "ROCAUC: \u001b[1;36m95.07\u001b[0m%"
      ]
     },
     "execution_count": 12,
     "metadata": {},
     "output_type": "execute_result"
    }
   ],
   "source": [
    "metric = metrics.ROCAUC()\n",
    "evaluate.progressive_val_score(dataset, model, metric)"
   ]
  }
 ],
 "metadata": {
  "kernelspec": {
   "display_name": "Python 3.9.12 ('river')",
   "language": "python",
   "name": "python3"
  },
  "language_info": {
   "codemirror_mode": {
    "name": "ipython",
    "version": 3
   },
   "file_extension": ".py",
   "mimetype": "text/x-python",
   "name": "python",
   "nbconvert_exporter": "python",
   "pygments_lexer": "ipython3",
   "version": "3.12.11"
  },
  "vscode": {
   "interpreter": {
    "hash": "e6e87bad9c8c768904c061eafcb4f6739260ff8bb57f302c215ab258ded773dc"
   }
  }
 },
 "nbformat": 4,
 "nbformat_minor": 4
}
